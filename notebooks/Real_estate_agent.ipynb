{
  "cells": [
    {
      "cell_type": "markdown",
      "id": "a108af04",
      "metadata": {
        "id": "a108af04"
      },
      "source": [
        "# Real estate agent chatbot"
      ]
    },
    {
      "cell_type": "markdown",
      "source": [
        "A generative AI chatbot that acts as a friendly and knowledgeable real estate agent. It uses OpenAI's models and vector search to retrieve relevant listings and answer user questions.\n"
      ],
      "metadata": {
        "id": "hK4PFWMOSMqj"
      },
      "id": "hK4PFWMOSMqj"
    },
    {
      "cell_type": "code",
      "source": [
        "!pip install -q -r requirements.txt"
      ],
      "metadata": {
        "colab": {
          "base_uri": "https://localhost:8080/"
        },
        "id": "GVgzA9g2HT4H",
        "outputId": "396406c8-dafe-48ee-b9aa-1dd81b117bad"
      },
      "id": "GVgzA9g2HT4H",
      "execution_count": 1,
      "outputs": [
        {
          "output_type": "stream",
          "name": "stdout",
          "text": [
            "\u001b[?25l     \u001b[90m━━━━━━━━━━━━━━━━━━━━━━━━━━━━━━━━━━━━━━━━\u001b[0m \u001b[32m0.0/67.3 kB\u001b[0m \u001b[31m?\u001b[0m eta \u001b[36m-:--:--\u001b[0m\r\u001b[2K     \u001b[90m━━━━━━━━━━━━━━━━━━━━━━━━━━━━━━━━━━━━━━━━\u001b[0m \u001b[32m67.3/67.3 kB\u001b[0m \u001b[31m3.1 MB/s\u001b[0m eta \u001b[36m0:00:00\u001b[0m\n",
            "\u001b[?25h  Installing build dependencies ... \u001b[?25l\u001b[?25hdone\n",
            "  Getting requirements to build wheel ... \u001b[?25l\u001b[?25hdone\n",
            "  Preparing metadata (pyproject.toml) ... \u001b[?25l\u001b[?25hdone\n",
            "\u001b[2K   \u001b[90m━━━━━━━━━━━━━━━━━━━━━━━━━━━━━━━━━━━━━━━━\u001b[0m \u001b[32m2.5/2.5 MB\u001b[0m \u001b[31m41.6 MB/s\u001b[0m eta \u001b[36m0:00:00\u001b[0m\n",
            "\u001b[2K   \u001b[90m━━━━━━━━━━━━━━━━━━━━━━━━━━━━━━━━━━━━━━━━\u001b[0m \u001b[32m19.0/19.0 MB\u001b[0m \u001b[31m44.5 MB/s\u001b[0m eta \u001b[36m0:00:00\u001b[0m\n",
            "\u001b[2K   \u001b[90m━━━━━━━━━━━━━━━━━━━━━━━━━━━━━━━━━━━━━━━━\u001b[0m \u001b[32m94.9/94.9 kB\u001b[0m \u001b[31m4.1 MB/s\u001b[0m eta \u001b[36m0:00:00\u001b[0m\n",
            "\u001b[2K   \u001b[90m━━━━━━━━━━━━━━━━━━━━━━━━━━━━━━━━━━━━━━━━\u001b[0m \u001b[32m284.2/284.2 kB\u001b[0m \u001b[31m15.0 MB/s\u001b[0m eta \u001b[36m0:00:00\u001b[0m\n",
            "\u001b[2K   \u001b[90m━━━━━━━━━━━━━━━━━━━━━━━━━━━━━━━━━━━━━━━━\u001b[0m \u001b[32m2.0/2.0 MB\u001b[0m \u001b[31m37.3 MB/s\u001b[0m eta \u001b[36m0:00:00\u001b[0m\n",
            "\u001b[2K   \u001b[90m━━━━━━━━━━━━━━━━━━━━━━━━━━━━━━━━━━━━━━━━\u001b[0m \u001b[32m101.6/101.6 kB\u001b[0m \u001b[31m5.0 MB/s\u001b[0m eta \u001b[36m0:00:00\u001b[0m\n",
            "\u001b[2K   \u001b[90m━━━━━━━━━━━━━━━━━━━━━━━━━━━━━━━━━━━━━━━━\u001b[0m \u001b[32m16.4/16.4 MB\u001b[0m \u001b[31m45.3 MB/s\u001b[0m eta \u001b[36m0:00:00\u001b[0m\n",
            "\u001b[2K   \u001b[90m━━━━━━━━━━━━━━━━━━━━━━━━━━━━━━━━━━━━━━━━\u001b[0m \u001b[32m65.8/65.8 kB\u001b[0m \u001b[31m3.5 MB/s\u001b[0m eta \u001b[36m0:00:00\u001b[0m\n",
            "\u001b[2K   \u001b[90m━━━━━━━━━━━━━━━━━━━━━━━━━━━━━━━━━━━━━━━━\u001b[0m \u001b[32m55.9/55.9 kB\u001b[0m \u001b[31m2.9 MB/s\u001b[0m eta \u001b[36m0:00:00\u001b[0m\n",
            "\u001b[2K   \u001b[90m━━━━━━━━━━━━━━━━━━━━━━━━━━━━━━━━━━━━━━━━\u001b[0m \u001b[32m194.9/194.9 kB\u001b[0m \u001b[31m9.5 MB/s\u001b[0m eta \u001b[36m0:00:00\u001b[0m\n",
            "\u001b[2K   \u001b[90m━━━━━━━━━━━━━━━━━━━━━━━━━━━━━━━━━━━━━━━━\u001b[0m \u001b[32m119.0/119.0 kB\u001b[0m \u001b[31m5.6 MB/s\u001b[0m eta \u001b[36m0:00:00\u001b[0m\n",
            "\u001b[2K   \u001b[90m━━━━━━━━━━━━━━━━━━━━━━━━━━━━━━━━━━━━━━━━\u001b[0m \u001b[32m93.1/93.1 kB\u001b[0m \u001b[31m4.3 MB/s\u001b[0m eta \u001b[36m0:00:00\u001b[0m\n",
            "\u001b[2K   \u001b[90m━━━━━━━━━━━━━━━━━━━━━━━━━━━━━━━━━━━━━━━━\u001b[0m \u001b[32m44.4/44.4 kB\u001b[0m \u001b[31m1.6 MB/s\u001b[0m eta \u001b[36m0:00:00\u001b[0m\n",
            "\u001b[2K   \u001b[90m━━━━━━━━━━━━━━━━━━━━━━━━━━━━━━━━━━━━━━━━\u001b[0m \u001b[32m62.5/62.5 kB\u001b[0m \u001b[31m3.2 MB/s\u001b[0m eta \u001b[36m0:00:00\u001b[0m\n",
            "\u001b[2K   \u001b[90m━━━━━━━━━━━━━━━━━━━━━━━━━━━━━━━━━━━━━━━━\u001b[0m \u001b[32m459.8/459.8 kB\u001b[0m \u001b[31m21.1 MB/s\u001b[0m eta \u001b[36m0:00:00\u001b[0m\n",
            "\u001b[2K   \u001b[90m━━━━━━━━━━━━━━━━━━━━━━━━━━━━━━━━━━━━━━━━\u001b[0m \u001b[32m50.9/50.9 kB\u001b[0m \u001b[31m2.3 MB/s\u001b[0m eta \u001b[36m0:00:00\u001b[0m\n",
            "\u001b[2K   \u001b[90m━━━━━━━━━━━━━━━━━━━━━━━━━━━━━━━━━━━━━━━━\u001b[0m \u001b[32m71.5/71.5 kB\u001b[0m \u001b[31m3.5 MB/s\u001b[0m eta \u001b[36m0:00:00\u001b[0m\n",
            "\u001b[2K   \u001b[90m━━━━━━━━━━━━━━━━━━━━━━━━━━━━━━━━━━━━━━━━\u001b[0m \u001b[32m4.0/4.0 MB\u001b[0m \u001b[31m56.3 MB/s\u001b[0m eta \u001b[36m0:00:00\u001b[0m\n",
            "\u001b[2K   \u001b[90m━━━━━━━━━━━━━━━━━━━━━━━━━━━━━━━━━━━━━━━━\u001b[0m \u001b[32m454.8/454.8 kB\u001b[0m \u001b[31m20.7 MB/s\u001b[0m eta \u001b[36m0:00:00\u001b[0m\n",
            "\u001b[2K   \u001b[90m━━━━━━━━━━━━━━━━━━━━━━━━━━━━━━━━━━━━━━━━\u001b[0m \u001b[32m46.0/46.0 kB\u001b[0m \u001b[31m2.1 MB/s\u001b[0m eta \u001b[36m0:00:00\u001b[0m\n",
            "\u001b[2K   \u001b[90m━━━━━━━━━━━━━━━━━━━━━━━━━━━━━━━━━━━━━━━━\u001b[0m \u001b[32m86.8/86.8 kB\u001b[0m \u001b[31m4.7 MB/s\u001b[0m eta \u001b[36m0:00:00\u001b[0m\n",
            "\u001b[?25h  Building wheel for pypika (pyproject.toml) ... \u001b[?25l\u001b[?25hdone\n"
          ]
        }
      ]
    },
    {
      "cell_type": "code",
      "execution_count": 2,
      "id": "6554fd4c",
      "metadata": {
        "id": "6554fd4c"
      },
      "outputs": [],
      "source": [
        "import os\n",
        "\n",
        "from langchain.chat_models import ChatOpenAI\n",
        "from langchain.prompts import PromptTemplate\n",
        "from langchain.schema import HumanMessage\n",
        "\n",
        "from langchain.text_splitter import RecursiveCharacterTextSplitter\n",
        "from langchain.vectorstores import Chroma\n",
        "from langchain.embeddings.openai import OpenAIEmbeddings\n",
        "\n",
        "from langchain.chains import ConversationalRetrievalChain\n",
        "from langchain.memory import ConversationBufferMemory\n",
        "from typing import List\n",
        "\n",
        "# Load OpenAI API key\n",
        "API_KEY = 'YOUR OPENAI KEY'\n",
        "os.environ['OPENAI_API_KEY'] = API_KEY\n",
        "api_key = os.getenv('OPENAI_API_KEY')"
      ]
    },
    {
      "cell_type": "markdown",
      "id": "fe0e1ef9",
      "metadata": {
        "id": "fe0e1ef9"
      },
      "source": [
        "## Generate the real estate listings"
      ]
    },
    {
      "cell_type": "code",
      "execution_count": 3,
      "id": "55e06bbe",
      "metadata": {
        "id": "55e06bbe"
      },
      "outputs": [],
      "source": [
        "def generate_listings(model_name: str, temperature: float, amount: int, path: str = \"listings.txt\") -> None:\n",
        "    \"\"\"Generates property listings using an LLM and saves them to a file.\n",
        "\n",
        "    Args:\n",
        "        model_name (str): The name of the LLM model to use.\n",
        "        temperature (float): The temperature parameter for the LLM.\n",
        "        amount (int): The number of listings to generate. This parameter is used to modify the prompt to request the desired number of listings.\n",
        "        path (str, optional): The path to the file where listings will be saved. Defaults to \"listings.txt\".\n",
        "\n",
        "    Raises:\n",
        "        Exception: If there is an error during the LLM interaction or file writing.\n",
        "    \"\"\"\n",
        "    # Create the prompt to generate the listings\n",
        "    prompt = f\"\"\"You're helping to build a generative AI chatbot that acts as a friendly and knowledgeable real estate agent. Please generate {amount} realistic and diverse real estate property listings. Format each listing exactly as shown below, using the same field names and order for consistency. Use clear separators between listings.\n",
        "    Format:\n",
        "    === Listing ===\n",
        "    Property Title: [Title]\n",
        "    Location: [City, Neighborhood]\n",
        "    Price: $[Price]\n",
        "    Bedrooms: [#]\n",
        "    Bathrooms: [#]\n",
        "    Square Footage: [#] sq ft\n",
        "    Key Features: [List key features like garage, pool, renovated kitchen, etc.]\n",
        "    Description: [2–3 sentence summary from an agent’s perspective]\n",
        "    \"\"\"\n",
        "    try:\n",
        "        # Initialize the LLM\n",
        "        llm = ChatOpenAI(model=model_name, temperature=temperature)\n",
        "\n",
        "        # Generate the listings\n",
        "        response = llm([HumanMessage(content=prompt)])\n",
        "\n",
        "        # Save the listings to a file\n",
        "        with open(path, \"w\", encoding=\"utf-8\") as f:\n",
        "            f.write(response.content)\n",
        "\n",
        "    except Exception as e:\n",
        "        raise Exception(f\"An error occurred: {e}\")"
      ]
    },
    {
      "cell_type": "code",
      "execution_count": null,
      "id": "0744284b",
      "metadata": {
        "id": "0744284b",
        "collapsed": true
      },
      "outputs": [],
      "source": [
        "# Generate and save the property listings\n",
        "model_name = 'gpt-4o-mini'\n",
        "temperature=0.5\n",
        "amount = 10\n",
        "generate_listings(model_name=model_name, temperature=temperature, amount=amount)"
      ]
    },
    {
      "cell_type": "markdown",
      "id": "3a3f81de",
      "metadata": {
        "id": "3a3f81de"
      },
      "source": [
        "## Load the listings"
      ]
    },
    {
      "cell_type": "code",
      "execution_count": 5,
      "id": "68be8ca2",
      "metadata": {
        "id": "68be8ca2"
      },
      "outputs": [],
      "source": [
        "def load_listings(path: str) -> str:\n",
        "    \"\"\"Loads property listings from a text file.\n",
        "\n",
        "    Args:\n",
        "        path (str): The path to the text file containing the listings.\n",
        "\n",
        "    Returns:\n",
        "        str: The content of the listings file as a single string.\n",
        "\n",
        "    Raises:\n",
        "        FileNotFoundError: If the file specified by 'path' is not found.\n",
        "    \"\"\"\n",
        "    try:\n",
        "        with open(path, \"r\", encoding=\"utf-8\") as file:\n",
        "            return file.read()\n",
        "    except FileNotFoundError:\n",
        "        raise FileNotFoundError(f\"Listings file not found at path: {path}\")"
      ]
    },
    {
      "cell_type": "code",
      "execution_count": 6,
      "id": "670b10a6",
      "metadata": {
        "id": "670b10a6"
      },
      "outputs": [],
      "source": [
        "full_text = load_listings('listings.txt')"
      ]
    },
    {
      "cell_type": "markdown",
      "id": "642e07ea",
      "metadata": {
        "id": "642e07ea"
      },
      "source": [
        "## Store listings in a vector database"
      ]
    },
    {
      "cell_type": "code",
      "execution_count": 7,
      "id": "e7862a04",
      "metadata": {
        "id": "e7862a04",
        "colab": {
          "base_uri": "https://localhost:8080/"
        },
        "outputId": "264365b1-818f-4020-dfd3-7b11e621c234"
      },
      "outputs": [
        {
          "output_type": "stream",
          "name": "stdout",
          "text": [
            "['Property Title: Charming Bungalow in Historic District  \\nLocation: Charleston, Ansonborough  \\nPrice: $525,000  \\nBedrooms: 3  \\nBathrooms: 2  \\nSquare Footage: 1,500 sq ft  \\nKey Features: Original hardwood floors, large backyard, updated kitchen, walking distance to downtown  \\nDescription: This delightful bungalow offers a perfect blend of historic charm and modern convenience. With its spacious backyard and proximity to local shops and restaurants, it’s an ideal home for families and professionals alike.\\n\\n---', 'Property Title: Modern Condo with City Views  \\nLocation: New York, Lower East Side  \\nPrice: $1,200,000  \\nBedrooms: 2  \\nBathrooms: 2  \\nSquare Footage: 1,100 sq ft  \\nKey Features: Rooftop terrace, gym, stainless steel appliances, open floor plan  \\nDescription: Experience urban living at its finest in this stylish condo featuring breathtaking city views. The open layout and luxurious amenities make it a perfect retreat in the heart of the vibrant Lower East Side.\\n\\n---', 'Property Title: Family-Friendly Home in Suburban Oasis  \\nLocation: Austin, Circle C Ranch  \\nPrice: $675,000  \\nBedrooms: 4  \\nBathrooms: 3  \\nSquare Footage: 2,800 sq ft  \\nKey Features: Large backyard, community pool, granite countertops, energy-efficient appliances  \\nDescription: This spacious family home is located in a sought-after community with top-rated schools and amenities. Enjoy the comfort of multiple living spaces and a backyard perfect for kids and pets to play.\\n\\n---', 'Property Title: Cozy Cabin Retreat  \\nLocation: Lake Tahoe, South Lake Tahoe  \\nPrice: $450,000  \\nBedrooms: 2  \\nBathrooms: 1  \\nSquare Footage: 900 sq ft  \\nKey Features: Wood-burning fireplace, deck with lake view, hiking trails nearby  \\nDescription: Escape to this charming cabin nestled in the woods, just a short walk from the lake. Perfect for weekend getaways or year-round living, this retreat offers tranquility and adventure in equal measure.\\n\\n---', 'Property Title: Luxurious Waterfront Villa  \\nLocation: Miami, Coconut Grove  \\nPrice: $3,500,000  \\nBedrooms: 5  \\nBathrooms: 4  \\nSquare Footage: 4,200 sq ft  \\nKey Features: Private dock, infinity pool, gourmet kitchen, smart home technology  \\nDescription: Indulge in luxury living with this stunning waterfront villa boasting panoramic views of the bay. With high-end finishes and an expansive outdoor space, it’s perfect for entertaining or enjoying serene sunsets.\\n\\n---', 'Property Title: Chic Urban Loft  \\nLocation: San Francisco, SoMa  \\nPrice: $950,000  \\nBedrooms: 1  \\nBathrooms: 1  \\nSquare Footage: 1,000 sq ft  \\nKey Features: Exposed brick walls, high ceilings, close to public transport, pet-friendly  \\nDescription: This stylish loft combines modern design with historic elements, making it a unique urban sanctuary. Located in a vibrant neighborhood, it’s ideal for those who appreciate city living with a touch of character.\\n\\n---', 'Property Title: Quaint Cottage Near the Beach  \\nLocation: Santa Monica, Sunset Park  \\nPrice: $1,150,000  \\nBedrooms: 2  \\nBathrooms: 1  \\nSquare Footage: 1,200 sq ft  \\nKey Features: Short walk to the beach, renovated bathroom, garden space, garage  \\nDescription: This adorable cottage is just steps away from the beach and offers a relaxed coastal lifestyle. With its charming garden and updated interiors, it’s perfect for beach lovers and those seeking a laid-back vibe.\\n\\n---', 'Property Title: Spacious Townhome in Gated Community  \\nLocation: Orlando, Lake Nona  \\nPrice: $400,000  \\nBedrooms: 3  \\nBathrooms: 2.5  \\nSquare Footage: 1,800 sq ft  \\nKey Features: Community clubhouse, pool, modern kitchen, attached garage  \\nDescription: Enjoy the security and convenience of this lovely townhome located in a gated community. With access to fantastic amenities and a family-friendly atmosphere, it’s an excellent choice for first-time buyers.\\n\\n---', 'Property Title: Elegant Victorian in the Heart of the City  \\nLocation: Philadelphia, Rittenhouse Square  \\nPrice: $2,200,000  \\nBedrooms: 4  \\nBathrooms: 3  \\nSquare Footage: 3,500 sq ft  \\nKey Features: Historic architecture, private garden, gourmet kitchen, high ceilings  \\nDescription: Step into this beautifully restored Victorian home that perfectly marries historic elegance with modern luxury. Located in a prime area, it offers spacious living and is ideal for entertaining guests.\\n\\n---', 'Property Title: Contemporary Farmhouse on Acreage  \\nLocation: Nashville, Brentwood  \\nPrice: $1,750,000  \\nBedrooms: 5  \\nBathrooms: 4  \\nSquare Footage: 3,600 sq ft  \\nKey Features: Wrap-around porch, barn, open-concept living, spacious yard  \\nDescription: This stunning contemporary farmhouse offers a peaceful retreat on expansive acreage. With its modern amenities and rustic charm, it’s perfect for those looking for a serene lifestyle without sacrificing convenience.']\n"
          ]
        }
      ],
      "source": [
        "listings = [listing.strip() for listing in full_text.split(\"=== Listing ===\") if listing.strip()]\n",
        "print(listings)"
      ]
    },
    {
      "cell_type": "code",
      "execution_count": 8,
      "id": "fd6baf4a",
      "metadata": {
        "id": "fd6baf4a"
      },
      "outputs": [],
      "source": [
        "def create_vector_store(listings_text: List[str], embedding_model: OpenAIEmbeddings) -> Chroma:\n",
        "    \"\"\"Creates a vector store from property listings using ChromaDB.\n",
        "\n",
        "    This function splits the listings into smaller chunks using a RecursiveCharacterTextSplitter,\n",
        "    embeds them using the provided embedding model, and stores them in a ChromaDB vector store.\n",
        "\n",
        "    Args:\n",
        "        listings_text: A list of property listing strings.\n",
        "        embedding_model: The OpenAIEmbeddings model to use for generating document embeddings.\n",
        "\n",
        "    Returns:\n",
        "        A ChromaDB vector store containing the embedded listings.\n",
        "    \"\"\"\n",
        "    # Initialize the text splitter\n",
        "    splitter = RecursiveCharacterTextSplitter(\n",
        "        separators=[\"\\n\\n\", \"\\n\", \" \", \"\"],\n",
        "        chunk_size=500,\n",
        "        chunk_overlap=20\n",
        "    )\n",
        "\n",
        "    # Split the listings into chunks\n",
        "    chunks = []\n",
        "    for listing in listings_text:\n",
        "        chunks.extend(splitter.split_text(listing))\n",
        "\n",
        "    # Create the ChromaDB vector store\n",
        "    return Chroma.from_texts(\n",
        "        texts=chunks,\n",
        "        embedding=embedding_model,\n",
        "        collection_name=\"real_estate_listings\"\n",
        "    )"
      ]
    },
    {
      "cell_type": "code",
      "execution_count": null,
      "id": "53ce6fc8",
      "metadata": {
        "id": "53ce6fc8"
      },
      "outputs": [],
      "source": [
        "# Create a vector store\n",
        "embedding_model = OpenAIEmbeddings()\n",
        "vector_store = create_vector_store(listings, embedding_model)\n",
        "\n",
        "# Create a retriever from vector_store\n",
        "retriever = vector_store.as_retriever(\n",
        "    search_type='similarity',\n",
        "search_kwargs={'k':4}\n",
        ")"
      ]
    },
    {
      "cell_type": "markdown",
      "id": "b63972a2",
      "metadata": {
        "id": "b63972a2"
      },
      "source": [
        "## Chatbot"
      ]
    },
    {
      "cell_type": "code",
      "execution_count": 10,
      "id": "d7eb9640",
      "metadata": {
        "id": "d7eb9640"
      },
      "outputs": [],
      "source": [
        "def load_prompt(path: str = 'chatbot_prompt.txt') -> str:\n",
        "    \"\"\"Loads the prompt from a text file.\n",
        "\n",
        "    Args:\n",
        "        path (str): The path to the text file containing the prompt.\n",
        "\n",
        "    Returns:\n",
        "        str: The content of the prompt file as a single string.\n",
        "\n",
        "    Raises:\n",
        "        FileNotFoundError: If the file specified by 'path' is not found.\n",
        "    \"\"\"\n",
        "    try:\n",
        "        with open(path, \"r\", encoding=\"utf-8\") as file:\n",
        "            return file.read()\n",
        "    except FileNotFoundError:\n",
        "        raise FileNotFoundError(f\"Prompt file not found at path: {path}\")"
      ]
    },
    {
      "cell_type": "code",
      "execution_count": 11,
      "id": "9850f47c",
      "metadata": {
        "id": "9850f47c"
      },
      "outputs": [],
      "source": [
        "def run_chat(chain: ConversationalRetrievalChain) -> None:\n",
        "    \"\"\"Runs a real estate chatbot that allows users to query real estate listings.\n",
        "\n",
        "    The chatbot loads listings from a text file, creates a Chroma vector store,\n",
        "    creates a ConversationalRetrievalChain, and then allows the user to input\n",
        "    queries about real estate.\n",
        "\n",
        "    Args:\n",
        "        chain: The ConversationalRetrievalChain to use for the chatbot.\n",
        "    \"\"\"\n",
        "    print(\"=\" * 50)\n",
        "    print(\"🏡 Real Estate Assistant Chatbot\")\n",
        "    print(\"Type your preferences to find listings.\")\n",
        "    print(\"Example: 'I'm looking for a place with 3 bedrooms and a backyard.'\")\n",
        "    print(\"Type 'exit' or 'quit' to end the conversation.\")\n",
        "    print(\"=\" * 50)\n",
        "\n",
        "    try:\n",
        "        while True:\n",
        "            query = input(\"You: \")\n",
        "            if query.lower() in [\"exit\", \"quit\"]:\n",
        "                print(\"Exiting the assistant. Goodbye!\")\n",
        "                break\n",
        "\n",
        "            response = chain.invoke({\"question\": query})\n",
        "            print(f\"\\nAssistant: {response['answer']}\\n\")\n",
        "\n",
        "    except Exception as e:\n",
        "        print(f\"An error occurred: {e}\")"
      ]
    },
    {
      "cell_type": "markdown",
      "id": "16ad2e62",
      "metadata": {
        "id": "16ad2e62"
      },
      "source": [
        "## Run chatbot"
      ]
    },
    {
      "cell_type": "code",
      "execution_count": 12,
      "id": "3b8e2e8d",
      "metadata": {
        "colab": {
          "base_uri": "https://localhost:8080/"
        },
        "id": "3b8e2e8d",
        "outputId": "650619ab-1269-4f67-ce90-f967687d4d66"
      },
      "outputs": [
        {
          "output_type": "stream",
          "name": "stderr",
          "text": [
            "<ipython-input-12-ce2215a90c9c>:11: LangChainDeprecationWarning: Please see the migration guide at: https://python.langchain.com/docs/versions/migrating_memory/\n",
            "  memory = ConversationBufferMemory(memory_key='chat_history', return_messages=True, output_key=\"answer\")\n"
          ]
        },
        {
          "output_type": "stream",
          "name": "stdout",
          "text": [
            "==================================================\n",
            "🏡 Real Estate Assistant Chatbot\n",
            "Type your preferences to find listings.\n",
            "Example: 'I'm looking for a place with 3 bedrooms and a backyard.'\n",
            "Type 'exit' or 'quit' to end the conversation.\n",
            "==================================================\n",
            "You: I'm looking for a place with 3 bedrooms and a backyard.\n",
            "\n",
            "Assistant: Based on your preference for a place with 3 bedrooms and a backyard, here are two suitable options:\n",
            "\n",
            "1. **Charming Bungalow in Historic District**  \n",
            "   - **Location:** Charleston, Ansonborough  \n",
            "   - **Price:** $525,000  \n",
            "   - **Bedrooms:** 3  \n",
            "   - **Bathrooms:** 2  \n",
            "   - **Square Footage:** 1,500 sq ft  \n",
            "   - **Key Features:** Original hardwood floors, large backyard, updated kitchen, walking distance to downtown.\n",
            "\n",
            "2. **Spacious Townhome in Gated Community**  \n",
            "   - **Location:** Orlando, Lake Nona  \n",
            "   - **Price:** $400,000  \n",
            "   - **Bedrooms:** 3  \n",
            "   - **Bathrooms:** 2.5  \n",
            "   - **Square Footage:** 1,800 sq ft  \n",
            "   - **Key Features:** Community clubhouse, pool, modern kitchen, attached garage. (Note: While this townhome has a backyard, it may be smaller compared to a standalone home.)\n",
            "\n",
            "Both listings offer a backyard and meet your bedroom requirement. Let me know if you would like more information on either property!\n",
            "\n",
            "You: exit\n",
            "Exiting the assistant. Goodbye!\n"
          ]
        }
      ],
      "source": [
        "def main():\n",
        "    model_name = 'gpt-4o-mini'\n",
        "    temperature = 0.5\n",
        "    amount = 5\n",
        "    listings_path = 'listings.txt'\n",
        "    prompt_path = 'chatbot_prompt.txt'\n",
        "\n",
        "    # Load prompt and setup chain\n",
        "    prompt = load_prompt(prompt_path)\n",
        "    prompt_template = PromptTemplate.from_template(prompt)\n",
        "    memory = ConversationBufferMemory(memory_key='chat_history', return_messages=True, output_key=\"answer\")\n",
        "    retrieval_llm = ChatOpenAI(model=model_name, temperature=0.0, max_tokens=400)\n",
        "\n",
        "    chain = ConversationalRetrievalChain.from_llm(\n",
        "        llm=retrieval_llm,\n",
        "        retriever=retriever,\n",
        "        memory=memory,\n",
        "        combine_docs_chain_kwargs={'prompt': prompt_template},\n",
        "        return_source_documents=True\n",
        "    )\n",
        "\n",
        "    # Run the chatbot\n",
        "    run_chat(chain)\n",
        "\n",
        "\n",
        "if __name__ == \"__main__\":\n",
        "    main()\n"
      ]
    }
  ],
  "metadata": {
    "kernelspec": {
      "display_name": "Python 3 (ipykernel)",
      "language": "python",
      "name": "python3"
    },
    "language_info": {
      "codemirror_mode": {
        "name": "ipython",
        "version": 3
      },
      "file_extension": ".py",
      "mimetype": "text/x-python",
      "name": "python",
      "nbconvert_exporter": "python",
      "pygments_lexer": "ipython3",
      "version": "3.10.11"
    },
    "colab": {
      "provenance": []
    }
  },
  "nbformat": 4,
  "nbformat_minor": 5
}